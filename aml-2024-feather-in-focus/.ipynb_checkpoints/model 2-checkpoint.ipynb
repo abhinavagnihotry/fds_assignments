{
 "cells": [
  {
   "cell_type": "code",
   "execution_count": 1,
   "id": "18d57948",
   "metadata": {},
   "outputs": [],
   "source": [
    "import numpy as np\n",
    "import pandas as pd\n",
    "import tensorflow as tf\n",
    "\n",
    "from sklearn.model_selection import train_test_split\n",
    "from tensorflow.keras import layers, models\n",
    "from tensorflow.keras.utils import to_categorical\n",
    "from tensorflow.keras.applications import EfficientNetV2S\n",
    "from tensorflow.keras.preprocessing.image import ImageDataGenerator\n",
    "\n",
    "import cv2\n",
    "\n",
    "from tensorflow.keras.models import load_model\n",
    "from tensorflow.keras.optimizers import Adam"
   ]
  },
  {
   "cell_type": "code",
   "execution_count": 2,
   "id": "f8709c8c",
   "metadata": {},
   "outputs": [
    {
     "name": "stdout",
     "output_type": "stream",
     "text": [
      "Model: \"sequential_3\"\n",
      "_________________________________________________________________\n",
      " Layer (type)                Output Shape              Param #   \n",
      "=================================================================\n",
      " efficientnetv2-s (Function  (None, 13, 13, 1280)      20331360  \n",
      " al)                                                             \n",
      "                                                                 \n",
      " global_average_pooling2d_3  (None, 1280)              0         \n",
      "  (GlobalAveragePooling2D)                                       \n",
      "                                                                 \n",
      " dense_3 (Dense)             (None, 200)               256200    \n",
      "                                                                 \n",
      "=================================================================\n",
      "Total params: 20587560 (78.54 MB)\n",
      "Trainable params: 256200 (1000.78 KB)\n",
      "Non-trainable params: 20331360 (77.56 MB)\n",
      "_________________________________________________________________\n"
     ]
    }
   ],
   "source": [
    "# Load the saved EfficientNetV2 model\n",
    "model = load_model(\"efficientnetv2_model.h5\")\n",
    "\n",
    "# Check the model architecture\n",
    "model.summary()"
   ]
  },
  {
   "cell_type": "code",
   "execution_count": 3,
   "id": "255bc302",
   "metadata": {},
   "outputs": [],
   "source": [
    "# Freeze the base model's layers (optional, depending on your needs)\n",
    "for layer in model.layers[:-1]:  # Exclude the output layer\n",
    "    layer.trainable = False\n",
    "\n",
    "# Compile the model with a lower learning rate for fine-tuning\n",
    "model.compile(\n",
    "    optimizer=Adam(learning_rate=1e-4),  # Fine-tuning requires a smaller learning rate\n",
    "    loss=\"categorical_crossentropy\",     # Ensure the loss matches your use case\n",
    "    metrics=[\"accuracy\"]\n",
    ")"
   ]
  },
  {
   "cell_type": "code",
   "execution_count": 4,
   "id": "53367578",
   "metadata": {},
   "outputs": [
    {
     "ename": "NameError",
     "evalue": "name 'train_df' is not defined",
     "output_type": "error",
     "traceback": [
      "\u001b[1;31m---------------------------------------------------------------------------\u001b[0m",
      "\u001b[1;31mNameError\u001b[0m                                 Traceback (most recent call last)",
      "\u001b[1;32m~\\AppData\\Local\\Temp/ipykernel_31384/2921167572.py\u001b[0m in \u001b[0;36m<module>\u001b[1;34m\u001b[0m\n\u001b[0;32m      4\u001b[0m \u001b[1;33m\u001b[0m\u001b[0m\n\u001b[0;32m      5\u001b[0m \u001b[1;31m# Iterate over rows in the DataFrame\u001b[0m\u001b[1;33m\u001b[0m\u001b[1;33m\u001b[0m\u001b[1;33m\u001b[0m\u001b[0m\n\u001b[1;32m----> 6\u001b[1;33m \u001b[1;32mfor\u001b[0m \u001b[0m_\u001b[0m\u001b[1;33m,\u001b[0m \u001b[0mrow\u001b[0m \u001b[1;32min\u001b[0m \u001b[0mtrain_df\u001b[0m\u001b[1;33m.\u001b[0m\u001b[0miterrows\u001b[0m\u001b[1;33m(\u001b[0m\u001b[1;33m)\u001b[0m\u001b[1;33m:\u001b[0m\u001b[1;33m\u001b[0m\u001b[1;33m\u001b[0m\u001b[0m\n\u001b[0m\u001b[0;32m      7\u001b[0m     \u001b[1;31m# Read the image\u001b[0m\u001b[1;33m\u001b[0m\u001b[1;33m\u001b[0m\u001b[1;33m\u001b[0m\u001b[0m\n\u001b[0;32m      8\u001b[0m     \u001b[0mim_path\u001b[0m \u001b[1;33m=\u001b[0m \u001b[0mrow\u001b[0m\u001b[1;33m[\u001b[0m\u001b[1;34m'image_path'\u001b[0m\u001b[1;33m]\u001b[0m\u001b[1;33m\u001b[0m\u001b[1;33m\u001b[0m\u001b[0m\n",
      "\u001b[1;31mNameError\u001b[0m: name 'train_df' is not defined"
     ]
    }
   ],
   "source": [
    "# load class_names\n",
    "labels = np.load(\"class_names.npy\", allow_pickle=True).item()\n",
    "\n",
    "# load attributes\n",
    "attributes = np.load(\"attributes.npy\")\n",
    "print(attributes.shape)\n",
    "attributes_dict = {i + 1: row for i, row in enumerate(attributes)}\n",
    "# load training data\n",
    "train_df = pd.read_csv(\"train_images.csv\")\n",
    "# add attributes to data\n",
    "train_df[\"attributes\"] = train_df[\"label\"].map(attributes_dict)\n",
    "\n",
    "# Initialize empty lists for images (X) and labels (y)\n",
    "X = []\n",
    "y = []\n",
    "\n",
    "# Iterate over rows in the DataFrame\n",
    "for _, row in train_df.iterrows():\n",
    "    # Read the image\n",
    "    im_path = row['image_path']\n",
    "    image = cv2.imread(f'train_images{im_path}')\n",
    "    \n",
    "    # Resize the image to 400x400\n",
    "    image_resized = cv2.resize(image, (400, 400))\n",
    "    \n",
    "    # Append to the list of images and labels\n",
    "    X.append(image_resized)\n",
    "\n",
    "# Convert lists to numpy arrays (optional)\n",
    "X = np.array(X)\n",
    "y = train_df['label']"
   ]
  },
  {
   "cell_type": "code",
   "execution_count": null,
   "id": "6a2c69c1",
   "metadata": {},
   "outputs": [],
   "source": [
    "# Convert y to categorical\n",
    "y_c = to_categorical(y.values-1)\n",
    "X_train, X_test, y_train, y_test = train_test_split(X, y_c, test_size=0.2, random_state=0)\n",
    "# use one-hot encoding for labels\n",
    "print(y_train.shape)"
   ]
  },
  {
   "cell_type": "code",
   "execution_count": null,
   "id": "57a633ef",
   "metadata": {},
   "outputs": [],
   "source": []
  },
  {
   "cell_type": "code",
   "execution_count": null,
   "id": "b2271bed",
   "metadata": {},
   "outputs": [],
   "source": [
    "from tensorflow.keras.callbacks import EarlyStopping\n",
    "\n",
    "# Early stopping to prevent overfitting\n",
    "early_stopping = EarlyStopping(monitor=\"val_loss\", patience=5, restore_best_weights=True)\n",
    "\n",
    "# Fine-tune the model\n",
    "history = model.fit(\n",
    "    X_train, y_train,                       # Replace with your training data\n",
    "    validation_data=(X_test, y_test),       # Replace with your validation data\n",
    "    batch_size=32,\n",
    "    epochs=10,\n",
    "    callbacks=[early_stopping]\n",
    ")"
   ]
  }
 ],
 "metadata": {
  "kernelspec": {
   "display_name": "Python 3 (ipykernel)",
   "language": "python",
   "name": "python3"
  },
  "language_info": {
   "codemirror_mode": {
    "name": "ipython",
    "version": 3
   },
   "file_extension": ".py",
   "mimetype": "text/x-python",
   "name": "python",
   "nbconvert_exporter": "python",
   "pygments_lexer": "ipython3",
   "version": "3.8.5"
  }
 },
 "nbformat": 4,
 "nbformat_minor": 5
}
