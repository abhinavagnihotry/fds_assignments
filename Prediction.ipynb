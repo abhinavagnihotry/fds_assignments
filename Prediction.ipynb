{
 "cells": [
  {
   "cell_type": "code",
   "execution_count": 11,
   "id": "initial_id",
   "metadata": {
    "collapsed": true,
    "ExecuteTime": {
     "end_time": "2024-09-25T14:32:50.745235Z",
     "start_time": "2024-09-25T14:32:50.738660Z"
    }
   },
   "outputs": [],
   "source": [
    "from sklearn.model_selection import cross_val_score, KFold\n",
    "from sklearn.linear_model import LinearRegression\n",
    "from sklearn.metrics import mean_squared_error\n",
    "import numpy as np\n",
    "import pandas as pd\n",
    "from sklearn.model_selection import train_test_split\n",
    "import itertools"
   ]
  },
  {
   "cell_type": "code",
   "outputs": [
    {
     "data": {
      "text/plain": "  Country name  year  Life Ladder  Log GDP per capita  Social support  \\\n0  Afghanistan  2008     3.723590            7.350416        0.450662   \n1  Afghanistan  2009     4.401778            7.508646        0.552308   \n2  Afghanistan  2010     4.758381            7.613900        0.539075   \n3  Afghanistan  2011     3.831719            7.581259        0.521104   \n4  Afghanistan  2012     3.782938            7.660506        0.520637   \n\n   Healthy life expectancy at birth  Freedom to make life choices  Generosity  \\\n0                         50.500000                      0.718114    0.164055   \n1                         50.799999                      0.678896    0.187297   \n2                         51.099998                      0.600127    0.117861   \n3                         51.400002                      0.495901    0.160098   \n4                         51.700001                      0.530935    0.234157   \n\n   Perceptions of corruption  Positive affect  ...  Overall Scores  \\\n0                   0.881686         0.414297  ...           1.896   \n1                   0.850035         0.481421  ...           1.765   \n2                   0.706766         0.516907  ...           1.838   \n3                   0.731109         0.479835  ...           1.874   \n4                   0.775620         0.613513  ...           1.816   \n\n  Safety and Security Ongoing Conflict  Militarian  \\\n0               3.372            3.153       2.594   \n1               3.603            3.246       2.609   \n2               3.549            3.087       2.629   \n3               3.549            3.038       2.555   \n4               3.593            3.069       2.693   \n\n                                      cleaned_speech  sentiment_score  \\\n0  since last time gathered great hall passed yea...           0.9990   \n1  first would like congratulate excellency mr tr...           0.9965   \n2  join previous speakers congratulating sir elec...           0.9585   \n3  honoured read statement president excellency h...           0.9899   \n4  speak today shaken depravity fanatics committe...          -0.9661   \n\n   peace_term_count  conflict_term_count Region  sentiment_score_rolling  \n0                 0                   14   Asia                 0.999000  \n1                 0                    4   Asia                 0.997750  \n2                 0                   18   Asia                 0.984667  \n3                 0                   16   Asia                 0.985975  \n4                 0                   17   Asia                 0.595560  \n\n[5 rows x 24 columns]",
      "text/html": "<div>\n<style scoped>\n    .dataframe tbody tr th:only-of-type {\n        vertical-align: middle;\n    }\n\n    .dataframe tbody tr th {\n        vertical-align: top;\n    }\n\n    .dataframe thead th {\n        text-align: right;\n    }\n</style>\n<table border=\"1\" class=\"dataframe\">\n  <thead>\n    <tr style=\"text-align: right;\">\n      <th></th>\n      <th>Country name</th>\n      <th>year</th>\n      <th>Life Ladder</th>\n      <th>Log GDP per capita</th>\n      <th>Social support</th>\n      <th>Healthy life expectancy at birth</th>\n      <th>Freedom to make life choices</th>\n      <th>Generosity</th>\n      <th>Perceptions of corruption</th>\n      <th>Positive affect</th>\n      <th>...</th>\n      <th>Overall Scores</th>\n      <th>Safety and Security</th>\n      <th>Ongoing Conflict</th>\n      <th>Militarian</th>\n      <th>cleaned_speech</th>\n      <th>sentiment_score</th>\n      <th>peace_term_count</th>\n      <th>conflict_term_count</th>\n      <th>Region</th>\n      <th>sentiment_score_rolling</th>\n    </tr>\n  </thead>\n  <tbody>\n    <tr>\n      <th>0</th>\n      <td>Afghanistan</td>\n      <td>2008</td>\n      <td>3.723590</td>\n      <td>7.350416</td>\n      <td>0.450662</td>\n      <td>50.500000</td>\n      <td>0.718114</td>\n      <td>0.164055</td>\n      <td>0.881686</td>\n      <td>0.414297</td>\n      <td>...</td>\n      <td>1.896</td>\n      <td>3.372</td>\n      <td>3.153</td>\n      <td>2.594</td>\n      <td>since last time gathered great hall passed yea...</td>\n      <td>0.9990</td>\n      <td>0</td>\n      <td>14</td>\n      <td>Asia</td>\n      <td>0.999000</td>\n    </tr>\n    <tr>\n      <th>1</th>\n      <td>Afghanistan</td>\n      <td>2009</td>\n      <td>4.401778</td>\n      <td>7.508646</td>\n      <td>0.552308</td>\n      <td>50.799999</td>\n      <td>0.678896</td>\n      <td>0.187297</td>\n      <td>0.850035</td>\n      <td>0.481421</td>\n      <td>...</td>\n      <td>1.765</td>\n      <td>3.603</td>\n      <td>3.246</td>\n      <td>2.609</td>\n      <td>first would like congratulate excellency mr tr...</td>\n      <td>0.9965</td>\n      <td>0</td>\n      <td>4</td>\n      <td>Asia</td>\n      <td>0.997750</td>\n    </tr>\n    <tr>\n      <th>2</th>\n      <td>Afghanistan</td>\n      <td>2010</td>\n      <td>4.758381</td>\n      <td>7.613900</td>\n      <td>0.539075</td>\n      <td>51.099998</td>\n      <td>0.600127</td>\n      <td>0.117861</td>\n      <td>0.706766</td>\n      <td>0.516907</td>\n      <td>...</td>\n      <td>1.838</td>\n      <td>3.549</td>\n      <td>3.087</td>\n      <td>2.629</td>\n      <td>join previous speakers congratulating sir elec...</td>\n      <td>0.9585</td>\n      <td>0</td>\n      <td>18</td>\n      <td>Asia</td>\n      <td>0.984667</td>\n    </tr>\n    <tr>\n      <th>3</th>\n      <td>Afghanistan</td>\n      <td>2011</td>\n      <td>3.831719</td>\n      <td>7.581259</td>\n      <td>0.521104</td>\n      <td>51.400002</td>\n      <td>0.495901</td>\n      <td>0.160098</td>\n      <td>0.731109</td>\n      <td>0.479835</td>\n      <td>...</td>\n      <td>1.874</td>\n      <td>3.549</td>\n      <td>3.038</td>\n      <td>2.555</td>\n      <td>honoured read statement president excellency h...</td>\n      <td>0.9899</td>\n      <td>0</td>\n      <td>16</td>\n      <td>Asia</td>\n      <td>0.985975</td>\n    </tr>\n    <tr>\n      <th>4</th>\n      <td>Afghanistan</td>\n      <td>2012</td>\n      <td>3.782938</td>\n      <td>7.660506</td>\n      <td>0.520637</td>\n      <td>51.700001</td>\n      <td>0.530935</td>\n      <td>0.234157</td>\n      <td>0.775620</td>\n      <td>0.613513</td>\n      <td>...</td>\n      <td>1.816</td>\n      <td>3.593</td>\n      <td>3.069</td>\n      <td>2.693</td>\n      <td>speak today shaken depravity fanatics committe...</td>\n      <td>-0.9661</td>\n      <td>0</td>\n      <td>17</td>\n      <td>Asia</td>\n      <td>0.595560</td>\n    </tr>\n  </tbody>\n</table>\n<p>5 rows × 24 columns</p>\n</div>"
     },
     "execution_count": 2,
     "metadata": {},
     "output_type": "execute_result"
    }
   ],
   "source": [
    "df = pd.read_pickle('updated_dataframe.pkl')\n",
    "df.head(5)"
   ],
   "metadata": {
    "collapsed": false,
    "ExecuteTime": {
     "end_time": "2024-09-25T14:08:58.114068Z",
     "start_time": "2024-09-25T14:08:58.075747Z"
    }
   },
   "id": "6756c0e1e4f6218a",
   "execution_count": 2
  },
  {
   "cell_type": "code",
   "outputs": [
    {
     "name": "stdout",
     "output_type": "stream",
     "text": [
      "Mean R² score (cross-validated on training set): 0.619\n",
      "R² score on test set: 0.545\n",
      "Mean Squared Error (MSE) on test set: 0.068\n"
     ]
    }
   ],
   "source": [
    "selected_features = ['Log GDP per capita', 'Life Ladder', 'Social support', \n",
    "                     'Freedom to make life choices', 'Militarian', \n",
    "                     'sentiment_score_rolling']\n",
    "\n",
    "\n",
    "X = df[selected_features].dropna()\n",
    "y = df.loc[X.index, 'Overall Scores']\n",
    "\n",
    "X_train, X_test, y_train, y_test = train_test_split(X, y, test_size=0.2, random_state=42)\n",
    "\n",
    "model = LinearRegression()\n",
    "\n",
    "cv = KFold(n_splits=5, shuffle=True, random_state=42)\n",
    "cv_r2_scores = cross_val_score(model, X_train, y_train, cv=cv, scoring='r2')\n",
    "mean_r2_score = np.mean(cv_r2_scores)\n",
    "\n",
    "model.fit(X_train, y_train)\n",
    "\n",
    "y_pred = model.predict(X_test)\n",
    "\n",
    "mse = mean_squared_error(y_test, y_pred)\n",
    "r2_test = model.score(X_test, y_test)\n",
    "\n",
    "print(f\"Mean R² score (cross-validated on training set): {mean_r2_score:.3f}\")\n",
    "print(f\"R² score on test set: {r2_test:.3f}\")\n",
    "print(f\"Mean Squared Error (MSE) on test set: {mse:.3f}\")\n"
   ],
   "metadata": {
    "collapsed": false,
    "ExecuteTime": {
     "end_time": "2024-09-25T14:24:13.983141Z",
     "start_time": "2024-09-25T14:24:13.962138Z"
    }
   },
   "id": "d9a4177886c39a58",
   "execution_count": 10
  },
  {
   "cell_type": "code",
   "outputs": [
    {
     "name": "stdout",
     "output_type": "stream",
     "text": [
      "Features: ['sentiment_score_rolling', 'Life Ladder', 'Ongoing Conflict'], R²: 0.806, Adjusted R²: 0.804\n",
      "Features: ['sentiment_score_rolling', 'Log GDP per capita', 'Ongoing Conflict'], R²: 0.804, Adjusted R²: 0.802\n",
      "Features: ['sentiment_score_rolling', 'Log GDP per capita', 'Life Ladder', 'Ongoing Conflict'], R²: 0.804, Adjusted R²: 0.802\n",
      "Features: ['sentiment_score_rolling', 'Log GDP per capita', 'Life Ladder', 'Freedom to make life choices', 'Ongoing Conflict'], R²: 0.800, Adjusted R²: 0.798\n",
      "Features: ['sentiment_score_rolling', 'Life Ladder', 'Freedom to make life choices', 'Ongoing Conflict'], R²: 0.799, Adjusted R²: 0.797\n"
     ]
    }
   ],
   "source": [
    "# Define your list of possible features (excluding 'sentiment_score_rolling' to add it explicitly in combinations)\n",
    "features = ['Log GDP per capita', 'Life Ladder', 'Social support', \n",
    "            'Freedom to make life choices', \n",
    "            'Ongoing Conflict']\n",
    "\n",
    "# Always include 'sentiment_score_rolling'\n",
    "base_feature = ['sentiment_score_rolling']\n",
    "\n",
    "# Function to calculate adjusted R²\n",
    "def adjusted_r2(r2, n, p):\n",
    "    return 1 - (1 - r2) * (n - 1) / (n - p - 1)\n",
    "\n",
    "# Function to get the adjusted R² score for a set of features\n",
    "def get_adjusted_r2_score(X, y, selected_features):\n",
    "    X_selected = X[selected_features].dropna()\n",
    "    y_selected = y.loc[X_selected.index]\n",
    "\n",
    "    X_train, X_test, y_train, y_test = train_test_split(X_selected, y_selected, test_size=0.2, random_state=42)\n",
    "    \n",
    "    model = LinearRegression()\n",
    "    model.fit(X_train, y_train)\n",
    "\n",
    "    # R² score\n",
    "    r2_test = model.score(X_test, y_test)\n",
    "\n",
    "    # Calculate adjusted R²\n",
    "    n = len(y_test)\n",
    "    p = len(selected_features)\n",
    "    adj_r2_test = adjusted_r2(r2_test, n, p)\n",
    "    \n",
    "    return adj_r2_test, r2_test\n",
    "\n",
    "# Iterate over all possible combinations of features\n",
    "results = []\n",
    "for i in range(1, len(features) + 1):\n",
    "    for combination in itertools.combinations(features, i):\n",
    "        selected_features = base_feature + list(combination)\n",
    "        adj_r2, r2 = get_adjusted_r2_score(df, df['Overall Scores'], selected_features)\n",
    "        results.append({\n",
    "            'features': selected_features,\n",
    "            'R²': r2,\n",
    "            'Adjusted R²': adj_r2\n",
    "        })\n",
    "\n",
    "# Sort results by Adjusted R²\n",
    "results_sorted = sorted(results, key=lambda x: x['Adjusted R²'], reverse=True)\n",
    "\n",
    "# Print the top 5 combinations\n",
    "for result in results_sorted[:5]:\n",
    "    print(f\"Features: {result['features']}, R²: {result['R²']:.3f}, Adjusted R²: {result['Adjusted R²']:.3f}\")\n"
   ],
   "metadata": {
    "collapsed": false,
    "ExecuteTime": {
     "end_time": "2024-09-25T14:34:03.146557Z",
     "start_time": "2024-09-25T14:34:03.066995Z"
    }
   },
   "id": "b9c3f6435454e4b5",
   "execution_count": 15
  }
 ],
 "metadata": {
  "kernelspec": {
   "display_name": "Python 3",
   "language": "python",
   "name": "python3"
  },
  "language_info": {
   "codemirror_mode": {
    "name": "ipython",
    "version": 2
   },
   "file_extension": ".py",
   "mimetype": "text/x-python",
   "name": "python",
   "nbconvert_exporter": "python",
   "pygments_lexer": "ipython2",
   "version": "2.7.6"
  }
 },
 "nbformat": 4,
 "nbformat_minor": 5
}
