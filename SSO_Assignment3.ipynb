{
 "cells": [
  {
   "cell_type": "markdown",
   "id": "b1adca99-5b41-414b-bba6-383fcf98f93e",
   "metadata": {},
   "source": [
    "<center>\n",
    "\n",
    "# SSO Assignment 3\n",
    "\n",
    "#### **Authors:** Group 13 \n",
    "#### Abhinav Agnihotry, Aryen Masoudpay, Shantanu Motiani  \n",
    "\n",
    " **Date:** 19th October, 2024\n",
    "\n",
    "</center>"
   ]
  },
  {
   "cell_type": "markdown",
   "id": "3a585afe-2e38-49b1-b4da-7767af3643e8",
   "metadata": {},
   "source": [
    "## Exercise 3.1"
   ]
  },
  {
   "cell_type": "markdown",
   "id": "b8e126de-716e-47cd-ac44-865cb7a497a9",
   "metadata": {},
   "source": [
    "### Part (a)\n",
    "\n",
    "We need to create an integer linear optimization model that minimizes the total tardiness cost, which is incurred for each hour a job exceeds its due date.\n",
    "\n",
    "Decision variables:\n",
    "1. start[j]: Start time of job j.\n",
    "2. tardiness[j]: The tardiness of job j (the time by which it exceeds its due date).\n",
    "\n",
    "Objective: Minimize the sum of tardiness for all jobs.\n",
    "\n",
    "Constraints:\n",
    "1. Jobs can only start after their release time.\n",
    "2. Jobs should have sufficient time to finish before the next job starts.\n",
    "3. Tardiness should be calculated based on the difference between finish time and due date."
   ]
  },
  {
   "cell_type": "code",
   "execution_count": 10,
   "id": "656fe9b4-c517-4c54-bf45-c616886ae943",
   "metadata": {},
   "outputs": [
    {
     "name": "stdout",
     "output_type": "stream",
     "text": [
      "Welcome to the CBC MILP Solver \n",
      "Version: 2.10.3 \n",
      "Build Date: Dec 15 2019 \n",
      "\n",
      "command line - /opt/anaconda3/envs/simulation/lib/python3.12/site-packages/pulp/solverdir/cbc/osx/64/cbc /var/folders/qw/kndrzd253bbb5qrt4cz3wxqr0000gn/T/ac7d39d1a869494facfc23992dabfa58-pulp.mps -timeMode elapsed -branch -printingOptions all -solution /var/folders/qw/kndrzd253bbb5qrt4cz3wxqr0000gn/T/ac7d39d1a869494facfc23992dabfa58-pulp.sol (default strategy 1)\n",
      "At line 2 NAME          MODEL\n",
      "At line 3 ROWS\n",
      "At line 34 COLUMNS\n",
      "At line 93 RHS\n",
      "At line 123 BOUNDS\n",
      "At line 124 ENDATA\n",
      "Problem MODEL has 29 rows, 20 columns and 48 elements\n",
      "Coin0008I MODEL read with 0 errors\n",
      "Option for timeMode changed from cpu to elapsed\n",
      "Presolve 0 (-29) rows, 0 (-20) columns and 0 (-48) elements\n",
      "Empty problem - 0 rows, 0 columns and 0 elements\n",
      "Optimal - objective value 72\n",
      "After Postsolve, objective 72, infeasibilities - dual 0 (0), primal 0 (0)\n",
      "Optimal objective 72 - 0 iterations time 0.002, Presolve 0.00\n",
      "Option for printingOptions changed from normal to all\n",
      "Total time (CPU seconds):       0.00   (Wallclock seconds):       0.01\n",
      "\n",
      "Optimal Schedule:\n",
      "Job 1: Start time = 3.0, Tardiness = 0.0\n",
      "Job 2: Start time = 7.0, Tardiness = 0.0\n",
      "Job 3: Start time = 12.0, Tardiness = 0.0\n",
      "Job 4: Start time = 15.0, Tardiness = 0.0\n",
      "Job 5: Start time = 20.0, Tardiness = 7.0\n",
      "Job 6: Start time = 27.0, Tardiness = 18.0\n",
      "Job 7: Start time = 28.0, Tardiness = 0.0\n",
      "Job 8: Start time = 28.0, Tardiness = 1.0\n",
      "Job 9: Start time = 31.0, Tardiness = 23.0\n",
      "Job 10: Start time = 33.0, Tardiness = 23.0\n",
      "\n",
      "Total Cost of Tardiness: 72.0 euros\n"
     ]
    }
   ],
   "source": [
    "import pulp as lp\n",
    "\n",
    "jobs = list(range(1, 11))\n",
    "duration = [4, 5, 3, 5, 7, 1, 0, 3, 2, 10]\n",
    "release_time = [3, 4, 7, 11, 10, 0, 0, 10, 0, 15]\n",
    "due_date = [11, 12, 20, 25, 20, 10, 30, 30, 10, 20]\n",
    "\n",
    "# Create a problem instance\n",
    "prob = lp.LpProblem(\"Single-Machine_Scheduling\", lp.LpMinimize)\n",
    "\n",
    "# Decision variables: start times and tardiness for each job\n",
    "start = lp.LpVariable.dicts(\"Start\", jobs, lowBound=0, cat=\"Continuous\")\n",
    "tardiness = lp.LpVariable.dicts(\"Tardiness\", jobs, lowBound=0, cat=\"Continuous\")\n",
    "\n",
    "# Objective: Minimize total tardiness\n",
    "prob += lp.lpSum(tardiness[j] for j in jobs), \"Total_Tardiness\"\n",
    "\n",
    "# Constraints\n",
    "for j in jobs:\n",
    "    # Job can only start after its release time\n",
    "    prob += start[j] >= release_time[j-1], f\"Release_time_constraint_{j}\"\n",
    "    \n",
    "    # Tardiness constraint (if finish time exceeds due date)\n",
    "    prob += tardiness[j] >= (start[j] + duration[j-1] - due_date[j-1]), f\"Tardiness_constraint_{j}\"\n",
    "    \n",
    "    # No overlap between jobs\n",
    "    if j < 10:  # For jobs from 1 to 9\n",
    "        prob += start[j] + duration[j-1] <= start[j+1], f\"No_overlap_constraint_{j}\"\n",
    "\n",
    "# Solve the problem\n",
    "prob.solve()\n",
    "\n",
    "# Output the results\n",
    "print(\"Optimal Schedule:\")\n",
    "for j in jobs:\n",
    "    print(f\"Job {j}: Start time = {start[j].varValue}, Tardiness = {tardiness[j].varValue}\")\n",
    "\n",
    "# Report on total tardiness\n",
    "total_tardiness = sum([tardiness[j].varValue for j in jobs])\n",
    "print(f\"\\nTotal Cost of Tardiness: {total_tardiness} euros\")"
   ]
  },
  {
   "cell_type": "markdown",
   "id": "f6c2b50c-53d0-4b27-a529-291f1a4e3d48",
   "metadata": {},
   "source": [
    "### Part (b)\n",
    "\n",
    "Now we introduce two sieve types. Jobs 1, 3, 4, 6, and 10 require sieve type 1, and the others require sieve type 2. Changing the sieve adds 1 hour, so we need to modify the model to account for this extra time whenever a switch between jobs using different sieve types occurs.\n",
    "\n",
    "New constraint\n",
    "1. Add 1 hour between jobs if they require different sieves."
   ]
  },
  {
   "cell_type": "code",
   "execution_count": 6,
   "id": "6355917d-23ed-49b7-8467-86fe4649f0f6",
   "metadata": {},
   "outputs": [
    {
     "name": "stdout",
     "output_type": "stream",
     "text": [
      "Optimal Schedule with Sieve Change:\n",
      "Job 1: Start time = 3.0, Tardiness = 0.0\n",
      "Job 2: Start time = 8.0, Tardiness = 1.0\n",
      "Job 3: Start time = 14.0, Tardiness = 0.0\n",
      "Job 4: Start time = 17.0, Tardiness = 0.0\n",
      "Job 5: Start time = 23.0, Tardiness = 10.0\n",
      "Job 6: Start time = 31.0, Tardiness = 22.0\n",
      "Job 7: Start time = 33.0, Tardiness = 3.0\n",
      "Job 8: Start time = 33.0, Tardiness = 26.0\n",
      "Job 9: Start time = 36.0, Tardiness = 8.0\n",
      "Job 10: Start time = 39.0, Tardiness = 29.0\n",
      "\n",
      "Total Cost of Tardiness with Sieve Change: 99.0 euros\n"
     ]
    }
   ],
   "source": [
    "# Sieve type for each job (1 for type 1, 2 for type 2)\n",
    "sieve_type = {1: 1, 2: 2, 3: 1, 4: 1, 5: 2, 6: 1, 7: 2, 8: 2, 9: 2, 10: 1}\n",
    "\n",
    "# Create a problem instance\n",
    "prob = lp.LpProblem(\"Single-Machine_Scheduling_with_Sieve_Change\", lp.LpMinimize)\n",
    "\n",
    "# Decision variables: start times and tardiness for each job\n",
    "start = lp.LpVariable.dicts(\"Start\", jobs, lowBound=0, cat=\"Continuous\")\n",
    "tardiness = lp.LpVariable.dicts(\"Tardiness\", jobs, lowBound=0, cat=\"Continuous\")\n",
    "\n",
    "# Objective: Minimize total tardiness\n",
    "prob += lp.lpSum(tardiness[j] for j in jobs), \"Total_Tardiness\"\n",
    "\n",
    "# Constraints\n",
    "for j in jobs:\n",
    "    # Job can only start after its release time\n",
    "    prob += start[j] >= release_time[j-1], f\"Release_time_constraint_{j}\"\n",
    "    \n",
    "    # Tardiness constraint (if finish time exceeds due date)\n",
    "    prob += tardiness[j] >= (start[j] + duration[j-1] - due_date[j-1]), f\"Tardiness_constraint_{j}\"\n",
    "    \n",
    "    # No overlap between jobs\n",
    "    if j < 10:  # For jobs from 1 to 9\n",
    "        if sieve_type[j] == sieve_type[j+1]:\n",
    "            # No sieve change, normal no overlap constraint\n",
    "            prob += start[j] + duration[j-1] <= start[j+1], f\"No_overlap_constraint_{j}_{j+1}\"\n",
    "        else:\n",
    "            # Sieve change required, add 1 hour\n",
    "            prob += start[j] + duration[j-1] + 1 <= start[j+1], f\"Sieve_change_constraint_{j}_{j+1}\"\n",
    "\n",
    "# Solve the modified problem\n",
    "prob.solve()\n",
    "\n",
    "# Output the new results\n",
    "print(\"Optimal Schedule with Sieve Change:\")\n",
    "for j in jobs:\n",
    "    print(f\"Job {j}: Start time = {start[j].varValue}, Tardiness = {tardiness[j].varValue}\")\n",
    "\n",
    "# Report on total tardiness\n",
    "total_tardiness = sum([tardiness[j].varValue for j in jobs])\n",
    "print(f\"\\nTotal Cost of Tardiness with Sieve Change: {total_tardiness} euros\")"
   ]
  },
  {
   "cell_type": "markdown",
   "id": "471c0b4f-282c-49d1-b3ad-c8e5ab568c76",
   "metadata": {},
   "source": [
    "## Exercise 3.2  \n",
    "**Project Planning**"
   ]
  },
  {
   "cell_type": "markdown",
   "id": "fca31545-e942-4a49-b5ea-085b33b8bc1c",
   "metadata": {},
   "source": [
    "### Part (a)"
   ]
  },
  {
   "cell_type": "markdown",
   "id": "98860652-a772-4c48-95c7-b41eeded043e",
   "metadata": {},
   "source": [
    "The project was simulated 10,000 times to approximate the expected finish time. Activity durations were drawn from an exponential distribution using the inverse transformation method, where the rate parameter \\(\\lambda\\) is the reciprocal of the expected duration. The sampling formula used in Excel was:\n",
    "\n",
    "$$\n",
    "x = -\\frac{\\ln(\\text{RAND()})}{\\lambda}\n",
    "$$\n",
    "\n",
    "Each activity's finish time was computed based on its dependencies. Activities 2, 3, and 4 started after Activity 1, while Activities 5 and 6 began after Activities 2 & 3, and 3 & 4, respectively. Activity 7, the final activity, started after Activities 5 and 6, with its finish time determining the overall project duration.\n",
    "\n",
    "After 10,000 simulations, the expected project finish time was found to be **14.007 days**.\n"
   ]
  },
  {
   "cell_type": "markdown",
   "id": "12062a52-f63a-4bfb-b04e-8f3e9b494ac3",
   "metadata": {},
   "source": [
    "<center>\n",
    "<div>\n",
    "<img src=\"./ex_3.2a.png\" width=\"700\"/>\n",
    "</div>\n",
    "</center>"
   ]
  },
  {
   "cell_type": "markdown",
   "id": "fb85d6be-85cd-4ef3-84c2-62f37b7e49dd",
   "metadata": {},
   "source": [
    "### Part (b)"
   ]
  },
  {
   "cell_type": "markdown",
   "id": "3e674533-cd0a-443a-86ba-e1248a190e6d",
   "metadata": {},
   "source": [
    "To determine the 95% confidence interval, the following formula was employed:\n",
    "\n",
    "$$\n",
    "\\bar{x} - t_{\\alpha} \\cdot \\frac{s}{\\sqrt{n}} \\quad \\text{and} \\quad \\bar{x} + t_{\\alpha} \\cdot \\frac{s}{\\sqrt{n}}\n",
    "$$\n",
    "\n",
    "where $\\bar{x}$ represents the sample mean, $t_{\\alpha/2} = 1.96$ for $1000 - 1$ degrees of freedom, $s$ denotes the sample standard deviation, and $n$ indicates the number of simulations. The calculated values for the 95% confidence interval for the expected project completion time are presented in the figure below:\n"
   ]
  },
  {
   "cell_type": "markdown",
   "id": "603e4148-5067-48a3-a820-e626c3f913da",
   "metadata": {},
   "source": [
    "<center>\n",
    "<div>\n",
    "<img src=\"./ex_3.2b.png\" width=\"300\"/>\n",
    "</div>\n",
    "</center>"
   ]
  },
  {
   "cell_type": "markdown",
   "id": "7a31a137-33d4-4dfa-be50-daab57356969",
   "metadata": {},
   "source": [
    "### Part (c)"
   ]
  },
  {
   "cell_type": "markdown",
   "id": "10a9b8e1-83ea-404f-a671-d0f8b0463e73",
   "metadata": {},
   "source": [
    "To estimate the 95% confidence interval for the likelihood of the project exceeding 12 days, a new column was introduced. This column assigns a value of 1 for simulations where the project duration surpasses 12 days and a value of 0 for all other cases. The sample probability was then determined by calculating the proportion of simulations that resulted in completion times greater than 12 days, yielding a figure of 56.61%. By applying this probability and the following formula, the confidence interval was computed:\n",
    "\n",
    "$$\n",
    "\\hat{p} - z_{\\alpha/2} \\cdot \\sqrt{\\frac{\\hat{p}(1 - \\hat{p})}{n}}, \\quad \\hat{p} + z_{\\alpha/2} \\cdot \\sqrt{\\frac{\\hat{p}(1 - \\hat{p})}{n}}\n",
    "$$\n",
    "\n",
    "The findings suggest that we can be 95% confident that the true probability of the project taking more than 12 days lies within the range of 55.79% to 57.42%.\n"
   ]
  },
  {
   "cell_type": "markdown",
   "id": "0dd3d6ef-0d91-4adf-bf5c-b6e457a4af35",
   "metadata": {},
   "source": [
    "<center>\n",
    "<div>\n",
    "<img src=\"./ex_3.2c.png\" width=\"300\"/>\n",
    "</div>\n",
    "</center>"
   ]
  },
  {
   "cell_type": "markdown",
   "id": "ebd7a396-e1a1-4c89-8479-ca725dd21a51",
   "metadata": {},
   "source": [
    "## Exercise 3.3\n",
    "**Optimal Hotel Prizes**"
   ]
  },
  {
   "cell_type": "markdown",
   "id": "050e5fe8-4d33-40ab-80f3-de1b94689c59",
   "metadata": {},
   "source": [
    "### Part (a)"
   ]
  },
  {
   "cell_type": "markdown",
   "id": "139c6d14-79db-4af4-83a5-a3637336f7b6",
   "metadata": {},
   "source": [
    "The demand for nine different price points was simulated 100,000 times using a binomial distribution. For each price, the expected average revenue and its standard deviation were then calculated. As shown in the figure below, the price of €150.00 yields the highest expected revenue, with a mean of €1,168.77 and a standard deviation of €277.24. Among the price points, this one maximizes revenue, outperforming the others in terms of expected earnings.\n"
   ]
  },
  {
   "cell_type": "markdown",
   "id": "445f66cf-cced-4c42-ac2c-0c86169238c4",
   "metadata": {},
   "source": [
    "<center>\n",
    "<div>\n",
    "<img src=\"./ex_3.3a1.png\" width=\"700\"/>\n",
    "</div>\n",
    "</center>"
   ]
  },
  {
   "cell_type": "markdown",
   "id": "80cd7d75-1ab0-4f12-a4bf-58a707c7ae81",
   "metadata": {},
   "source": [
    "To confirm whether €150 is indeed the optimal price, we must calculate the 95% confidence intervals (CIs) for the differences between the expected mean revenues of €150 and the other price points. If these confidence intervals do not include zero, it would provide sufficient evidence that €150 outperforms the other prices. The differences will be tested using the following adjusted significance level for multiple comparisons:\n",
    "\n",
    "$$\n",
    "\\alpha^* = 1 - \\frac{\\sqrt{|S| - 1}}{\\sqrt{1 - \\alpha}} = 1 - \\frac{\\sqrt{9 - 1}}{\\sqrt{0.95}} = 1 - \\frac{8}{\\sqrt{0.95}} \\approx 0.006\n",
    "$$\n",
    "\n",
    "This adjusted significance level, $\\alpha^*$, of approximately 0.006 corresponds to an inverse of 2.49 (beta), which will be used as the t-score for calculating the confidence intervals. The formula for determining the confidence intervals for the differences in expected means is as follows:\n",
    "\n",
    "$$\n",
    "CI = \\left( \\bar{X}_1 - \\bar{X}_2 \\right) \\pm t_{\\beta} \\cdot SE\n",
    "$$\n",
    "\n",
    "This format is fully compatible with Jupyter notebooks for displaying the text, equations, and structure."
   ]
  },
  {
   "cell_type": "markdown",
   "id": "6e344002-c2de-41c2-9acd-5f131e526efe",
   "metadata": {},
   "source": [
    "<center>\n",
    "<div>\n",
    "<img src=\"./ex_3.3a2.png\" width=\"500\"/>\n",
    "</div>\n",
    "</center>"
   ]
  },
  {
   "cell_type": "markdown",
   "id": "3d463ab8-d8bb-49ef-8cea-7c6548b54d2b",
   "metadata": {},
   "source": [
    "With 95% confidence, €150 is the optimal price, as none of the confidence intervals include zero."
   ]
  },
  {
   "cell_type": "markdown",
   "id": "4a746d63-5ee5-44ed-b7ee-e130cf5319a4",
   "metadata": {},
   "source": [
    "### Part (b)"
   ]
  },
  {
   "cell_type": "markdown",
   "id": "c7f68714-967f-452a-8f75-4ee8d2b37201",
   "metadata": {},
   "source": [
    "\n",
    "The simulation budget has now been set to a total of 10,000 simulations, with only 900 simulations conducted in step 1. As in part a), the 9 price points were simulated, but this time, each was simulated 100 times (since $ \\frac{900}{9} = 100 ) $. The mean expected revenue and standard deviations were calculated, as shown in the figure. Pairwise t-tests were then performed to compare all prices at a significance level of 0.05. \n",
    "<center>\n",
    "<div>\n",
    "<img src=\"./ex_3.3b1.png\" width=\"500\"/>\n",
    "</div>\n",
    "</center>\n",
    "\n",
    "It’s important to note that the Sidak correction was applied to adjust for multiple comparisons. The adjusted alpha (\\($\\alpha^*$) is calculated as follows:\n",
    "\n",
    "$$\n",
    "\\alpha^* = 1 - \\frac{\\sqrt{|S| - 1}}{\\sqrt{1 - \\alpha}} = 1 - \\frac{\\sqrt{9 - 1}}{\\sqrt{0.95}} = 1 - \\frac{8}{\\sqrt{0.95}} \\approx 0.006\n",
    "$$\n",
    "\n",
    "This $\\alpha^*$ of 0.006 corresponds to an inverse of 2.54 (beta). The pairwise t-tests were conducted to identify and discard inferior price solutions.\n",
    "\n",
    "<center>\n",
    "<div>\n",
    "<img src=\"./ex_3.3b2.png\" width=\"500\"/>\n",
    "</div>\n",
    "</center>\n"
   ]
  },
  {
   "cell_type": "markdown",
   "id": "40fa4edf-04b5-4db2-a8ae-67709235829c",
   "metadata": {},
   "source": [
    "\n",
    "As shown in the figure above, five prices—€100, €110, €120, €170, and €180—can be eliminated from the set of candidate solutions. These prices were discarded because the null hypothesis, \"price $ p_i $ is not worse than price $ p_i' $,\" could be rejected.\n",
    "\n",
    "The remaining four prices—€130, €140, €150, and €160—can now be simulated with the remaining budget of $ 10,000 - 900 = 9,100 $ simulations. This results in 2,275 simulations per price $ \\left( \\frac{9,100}{4} = 2,275 \\right) $. The figure below illustrates the simulation of these four prices, along with their calculated mean revenue and standard deviation.\n",
    "\n",
    "<center>\n",
    "<div>\n",
    "<img src=\"./ex_3.3b3.png\" width=\"800\"/>\n",
    "</div>\n",
    "</center>\n",
    "\n"
   ]
  },
  {
   "cell_type": "code",
   "execution_count": null,
   "id": "1162b9cd-3eec-453b-82c8-b162cd259a24",
   "metadata": {},
   "outputs": [],
   "source": []
  }
 ],
 "metadata": {
  "kernelspec": {
   "display_name": "simulation",
   "language": "python",
   "name": "simulation"
  },
  "language_info": {
   "codemirror_mode": {
    "name": "ipython",
    "version": 3
   },
   "file_extension": ".py",
   "mimetype": "text/x-python",
   "name": "python",
   "nbconvert_exporter": "python",
   "pygments_lexer": "ipython3",
   "version": "3.12.5"
  }
 },
 "nbformat": 4,
 "nbformat_minor": 5
}
